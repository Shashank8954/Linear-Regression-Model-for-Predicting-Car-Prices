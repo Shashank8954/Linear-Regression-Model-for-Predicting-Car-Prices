{
 "cells": [
  {
   "cell_type": "code",
   "execution_count": 2,
   "id": "c4be4075",
   "metadata": {},
   "outputs": [],
   "source": [
    "import numpy as np\n",
    "import pandas as pd\n",
    "import matplotlib.pyplot as plt\n",
    "import seaborn as sns"
   ]
  },
  {
   "cell_type": "code",
   "execution_count": 3,
   "id": "e051afb4",
   "metadata": {},
   "outputs": [],
   "source": [
    "from sklearn.preprocessing import PolynomialFeatures, MinMaxScaler\n",
    "from sklearn.linear_model import LinearRegression, Ridge, Lasso\n",
    "from sklearn.metrics import mean_squared_error, r2_score\n",
    "from sklearn.model_selection import train_test_split, GridSearchCV\n",
    "\n",
    "import warnings\n",
    "warnings.filterwarnings('ignore')"
   ]
  },
  {
   "cell_type": "code",
   "execution_count": 4,
   "id": "afeedc9c",
   "metadata": {},
   "outputs": [],
   "source": [
    "df = pd.read_csv(\"C:/Users/shank/Desktop/Linear Regression Project/Car details v3.csv\")"
   ]
  },
  {
   "cell_type": "code",
   "execution_count": 5,
   "id": "1ad4c9c8",
   "metadata": {},
   "outputs": [
    {
     "data": {
      "text/html": [
       "<div>\n",
       "<style scoped>\n",
       "    .dataframe tbody tr th:only-of-type {\n",
       "        vertical-align: middle;\n",
       "    }\n",
       "\n",
       "    .dataframe tbody tr th {\n",
       "        vertical-align: top;\n",
       "    }\n",
       "\n",
       "    .dataframe thead th {\n",
       "        text-align: right;\n",
       "    }\n",
       "</style>\n",
       "<table border=\"1\" class=\"dataframe\">\n",
       "  <thead>\n",
       "    <tr style=\"text-align: right;\">\n",
       "      <th></th>\n",
       "      <th>name</th>\n",
       "      <th>year</th>\n",
       "      <th>selling_price</th>\n",
       "      <th>km_driven</th>\n",
       "      <th>fuel</th>\n",
       "      <th>seller_type</th>\n",
       "      <th>transmission</th>\n",
       "      <th>owner</th>\n",
       "      <th>mileage</th>\n",
       "      <th>engine</th>\n",
       "      <th>max_power</th>\n",
       "      <th>torque</th>\n",
       "      <th>seats</th>\n",
       "    </tr>\n",
       "  </thead>\n",
       "  <tbody>\n",
       "    <tr>\n",
       "      <th>0</th>\n",
       "      <td>Maruti Swift Dzire VDI</td>\n",
       "      <td>2014</td>\n",
       "      <td>450000</td>\n",
       "      <td>145500</td>\n",
       "      <td>Diesel</td>\n",
       "      <td>Individual</td>\n",
       "      <td>Manual</td>\n",
       "      <td>First Owner</td>\n",
       "      <td>23.4 kmpl</td>\n",
       "      <td>1248 CC</td>\n",
       "      <td>74 bhp</td>\n",
       "      <td>190Nm@ 2000rpm</td>\n",
       "      <td>5.0</td>\n",
       "    </tr>\n",
       "    <tr>\n",
       "      <th>1</th>\n",
       "      <td>Skoda Rapid 1.5 TDI Ambition</td>\n",
       "      <td>2014</td>\n",
       "      <td>370000</td>\n",
       "      <td>120000</td>\n",
       "      <td>Diesel</td>\n",
       "      <td>Individual</td>\n",
       "      <td>Manual</td>\n",
       "      <td>Second Owner</td>\n",
       "      <td>21.14 kmpl</td>\n",
       "      <td>1498 CC</td>\n",
       "      <td>103.52 bhp</td>\n",
       "      <td>250Nm@ 1500-2500rpm</td>\n",
       "      <td>5.0</td>\n",
       "    </tr>\n",
       "    <tr>\n",
       "      <th>2</th>\n",
       "      <td>Honda City 2017-2020 EXi</td>\n",
       "      <td>2006</td>\n",
       "      <td>158000</td>\n",
       "      <td>140000</td>\n",
       "      <td>Petrol</td>\n",
       "      <td>Individual</td>\n",
       "      <td>Manual</td>\n",
       "      <td>Third Owner</td>\n",
       "      <td>17.7 kmpl</td>\n",
       "      <td>1497 CC</td>\n",
       "      <td>78 bhp</td>\n",
       "      <td>12.7@ 2,700(kgm@ rpm)</td>\n",
       "      <td>5.0</td>\n",
       "    </tr>\n",
       "    <tr>\n",
       "      <th>3</th>\n",
       "      <td>Hyundai i20 Sportz Diesel</td>\n",
       "      <td>2010</td>\n",
       "      <td>225000</td>\n",
       "      <td>127000</td>\n",
       "      <td>Diesel</td>\n",
       "      <td>Individual</td>\n",
       "      <td>Manual</td>\n",
       "      <td>First Owner</td>\n",
       "      <td>23.0 kmpl</td>\n",
       "      <td>1396 CC</td>\n",
       "      <td>90 bhp</td>\n",
       "      <td>22.4 kgm at 1750-2750rpm</td>\n",
       "      <td>5.0</td>\n",
       "    </tr>\n",
       "    <tr>\n",
       "      <th>4</th>\n",
       "      <td>Maruti Swift VXI BSIII</td>\n",
       "      <td>2007</td>\n",
       "      <td>130000</td>\n",
       "      <td>120000</td>\n",
       "      <td>Petrol</td>\n",
       "      <td>Individual</td>\n",
       "      <td>Manual</td>\n",
       "      <td>First Owner</td>\n",
       "      <td>16.1 kmpl</td>\n",
       "      <td>1298 CC</td>\n",
       "      <td>88.2 bhp</td>\n",
       "      <td>11.5@ 4,500(kgm@ rpm)</td>\n",
       "      <td>5.0</td>\n",
       "    </tr>\n",
       "  </tbody>\n",
       "</table>\n",
       "</div>"
      ],
      "text/plain": [
       "                           name  year  selling_price  km_driven    fuel  \\\n",
       "0        Maruti Swift Dzire VDI  2014         450000     145500  Diesel   \n",
       "1  Skoda Rapid 1.5 TDI Ambition  2014         370000     120000  Diesel   \n",
       "2      Honda City 2017-2020 EXi  2006         158000     140000  Petrol   \n",
       "3     Hyundai i20 Sportz Diesel  2010         225000     127000  Diesel   \n",
       "4        Maruti Swift VXI BSIII  2007         130000     120000  Petrol   \n",
       "\n",
       "  seller_type transmission         owner     mileage   engine   max_power  \\\n",
       "0  Individual       Manual   First Owner   23.4 kmpl  1248 CC      74 bhp   \n",
       "1  Individual       Manual  Second Owner  21.14 kmpl  1498 CC  103.52 bhp   \n",
       "2  Individual       Manual   Third Owner   17.7 kmpl  1497 CC      78 bhp   \n",
       "3  Individual       Manual   First Owner   23.0 kmpl  1396 CC      90 bhp   \n",
       "4  Individual       Manual   First Owner   16.1 kmpl  1298 CC    88.2 bhp   \n",
       "\n",
       "                     torque  seats  \n",
       "0            190Nm@ 2000rpm    5.0  \n",
       "1       250Nm@ 1500-2500rpm    5.0  \n",
       "2     12.7@ 2,700(kgm@ rpm)    5.0  \n",
       "3  22.4 kgm at 1750-2750rpm    5.0  \n",
       "4     11.5@ 4,500(kgm@ rpm)    5.0  "
      ]
     },
     "execution_count": 5,
     "metadata": {},
     "output_type": "execute_result"
    }
   ],
   "source": [
    "df.head()"
   ]
  },
  {
   "cell_type": "code",
   "execution_count": 6,
   "id": "4d293604",
   "metadata": {},
   "outputs": [
    {
     "data": {
      "text/plain": [
       "(8128, 13)"
      ]
     },
     "execution_count": 6,
     "metadata": {},
     "output_type": "execute_result"
    }
   ],
   "source": [
    "df.shape"
   ]
  },
  {
   "cell_type": "code",
   "execution_count": 7,
   "id": "81c52a6d",
   "metadata": {},
   "outputs": [
    {
     "name": "stdout",
     "output_type": "stream",
     "text": [
      "<class 'pandas.core.frame.DataFrame'>\n",
      "RangeIndex: 8128 entries, 0 to 8127\n",
      "Data columns (total 13 columns):\n",
      " #   Column         Non-Null Count  Dtype  \n",
      "---  ------         --------------  -----  \n",
      " 0   name           8128 non-null   object \n",
      " 1   year           8128 non-null   int64  \n",
      " 2   selling_price  8128 non-null   int64  \n",
      " 3   km_driven      8128 non-null   int64  \n",
      " 4   fuel           8128 non-null   object \n",
      " 5   seller_type    8128 non-null   object \n",
      " 6   transmission   8128 non-null   object \n",
      " 7   owner          8128 non-null   object \n",
      " 8   mileage        7907 non-null   object \n",
      " 9   engine         7907 non-null   object \n",
      " 10  max_power      7913 non-null   object \n",
      " 11  torque         7906 non-null   object \n",
      " 12  seats          7907 non-null   float64\n",
      "dtypes: float64(1), int64(3), object(9)\n",
      "memory usage: 825.6+ KB\n"
     ]
    }
   ],
   "source": [
    "df.info()"
   ]
  },
  {
   "cell_type": "code",
   "execution_count": 8,
   "id": "e026fe9b",
   "metadata": {},
   "outputs": [],
   "source": [
    "# remove kmpl from mileage and convert it into float type from object type\n",
    "df['mileage'] = df['mileage'].apply(lambda x: float(x.split()[0]) if type(x)==str else np.nan)\n",
    "df['mileage'] = df['mileage'].astype(\"float\")"
   ]
  },
  {
   "cell_type": "code",
   "execution_count": 9,
   "id": "1b30f221",
   "metadata": {},
   "outputs": [],
   "source": [
    "# remove CC from engine variable \n",
    "df['engine'] = df['engine'].apply(lambda x: x.replace(\"CC\",\"\") if type(x)==str else np.nan)"
   ]
  },
  {
   "cell_type": "code",
   "execution_count": 10,
   "id": "9a72c0b6",
   "metadata": {},
   "outputs": [],
   "source": [
    "# remove bhp from max_power and convert it into float type from object type\n",
    "df['max_power'] = df['max_power'].apply(lambda x : x.split()[0] if type(x)==str else np.nan)\n",
    "df = df[df['max_power'].str.contains('bhp') == False]\n",
    "df[\"max_power\"] = df[\"max_power\"].astype(float)"
   ]
  },
  {
   "cell_type": "code",
   "execution_count": 11,
   "id": "1f6f6d5b",
   "metadata": {},
   "outputs": [],
   "source": [
    "# As seats is categorical column, let's first convert it to categorical from float\n",
    "df.seats = df.seats.astype('category')"
   ]
  },
  {
   "cell_type": "code",
   "execution_count": 12,
   "id": "b8819743",
   "metadata": {},
   "outputs": [
    {
     "data": {
      "text/plain": [
       "5.0     6254\n",
       "7.0     1120\n",
       "8.0      235\n",
       "4.0      133\n",
       "9.0       80\n",
       "6.0       62\n",
       "10.0      19\n",
       "2.0        2\n",
       "14.0       1\n",
       "Name: seats, dtype: int64"
      ]
     },
     "execution_count": 12,
     "metadata": {},
     "output_type": "execute_result"
    }
   ],
   "source": [
    "df.seats.value_counts()"
   ]
  },
  {
   "cell_type": "code",
   "execution_count": 13,
   "id": "d597fdfc",
   "metadata": {},
   "outputs": [
    {
     "data": {
      "text/plain": [
       "0                  190Nm@ 2000rpm\n",
       "1             250Nm@ 1500-2500rpm\n",
       "2           12.7@ 2,700(kgm@ rpm)\n",
       "3        22.4 kgm at 1750-2750rpm\n",
       "4           11.5@ 4,500(kgm@ rpm)\n",
       "                  ...            \n",
       "8123             113.7Nm@ 4000rpm\n",
       "8124    24@ 1,900-2,750(kgm@ rpm)\n",
       "8125               190Nm@ 2000rpm\n",
       "8126          140Nm@ 1800-3000rpm\n",
       "8127          140Nm@ 1800-3000rpm\n",
       "Name: torque, Length: 7912, dtype: object"
      ]
     },
     "execution_count": 13,
     "metadata": {},
     "output_type": "execute_result"
    }
   ],
   "source": [
    "df.torque"
   ]
  },
  {
   "cell_type": "code",
   "execution_count": 14,
   "id": "274e6ac9",
   "metadata": {},
   "outputs": [],
   "source": [
    "# we will drop the torque as it doesn't have proper format\n",
    "df.drop([\"torque\"],axis=1,inplace=True)"
   ]
  },
  {
   "cell_type": "code",
   "execution_count": 15,
   "id": "613b0e81",
   "metadata": {},
   "outputs": [
    {
     "data": {
      "text/plain": [
       "name             0\n",
       "year             0\n",
       "selling_price    0\n",
       "km_driven        0\n",
       "fuel             0\n",
       "seller_type      0\n",
       "transmission     0\n",
       "owner            0\n",
       "mileage          6\n",
       "engine           6\n",
       "max_power        0\n",
       "seats            6\n",
       "dtype: int64"
      ]
     },
     "execution_count": 15,
     "metadata": {},
     "output_type": "execute_result"
    }
   ],
   "source": [
    "# check missing values number in each column\n",
    "df.isna().sum()"
   ]
  },
  {
   "cell_type": "code",
   "execution_count": 16,
   "id": "93e1ed03",
   "metadata": {},
   "outputs": [
    {
     "data": {
      "text/html": [
       "<div>\n",
       "<style scoped>\n",
       "    .dataframe tbody tr th:only-of-type {\n",
       "        vertical-align: middle;\n",
       "    }\n",
       "\n",
       "    .dataframe tbody tr th {\n",
       "        vertical-align: top;\n",
       "    }\n",
       "\n",
       "    .dataframe thead th {\n",
       "        text-align: right;\n",
       "    }\n",
       "</style>\n",
       "<table border=\"1\" class=\"dataframe\">\n",
       "  <thead>\n",
       "    <tr style=\"text-align: right;\">\n",
       "      <th></th>\n",
       "      <th>name</th>\n",
       "      <th>year</th>\n",
       "      <th>selling_price</th>\n",
       "      <th>km_driven</th>\n",
       "      <th>fuel</th>\n",
       "      <th>seller_type</th>\n",
       "      <th>transmission</th>\n",
       "      <th>owner</th>\n",
       "      <th>mileage</th>\n",
       "      <th>engine</th>\n",
       "      <th>max_power</th>\n",
       "      <th>seats</th>\n",
       "    </tr>\n",
       "  </thead>\n",
       "  <tbody>\n",
       "    <tr>\n",
       "      <th>575</th>\n",
       "      <td>Maruti Alto K10 LXI</td>\n",
       "      <td>2011</td>\n",
       "      <td>204999</td>\n",
       "      <td>97500</td>\n",
       "      <td>Petrol</td>\n",
       "      <td>Individual</td>\n",
       "      <td>Manual</td>\n",
       "      <td>First Owner</td>\n",
       "      <td>NaN</td>\n",
       "      <td>NaN</td>\n",
       "      <td>0.0</td>\n",
       "      <td>NaN</td>\n",
       "    </tr>\n",
       "    <tr>\n",
       "      <th>576</th>\n",
       "      <td>Maruti Alto K10 LXI</td>\n",
       "      <td>2011</td>\n",
       "      <td>204999</td>\n",
       "      <td>97500</td>\n",
       "      <td>Petrol</td>\n",
       "      <td>Individual</td>\n",
       "      <td>Manual</td>\n",
       "      <td>First Owner</td>\n",
       "      <td>NaN</td>\n",
       "      <td>NaN</td>\n",
       "      <td>0.0</td>\n",
       "      <td>NaN</td>\n",
       "    </tr>\n",
       "    <tr>\n",
       "      <th>1442</th>\n",
       "      <td>Maruti Swift Dzire VDI Optional</td>\n",
       "      <td>2017</td>\n",
       "      <td>589000</td>\n",
       "      <td>41232</td>\n",
       "      <td>Diesel</td>\n",
       "      <td>Dealer</td>\n",
       "      <td>Manual</td>\n",
       "      <td>First Owner</td>\n",
       "      <td>NaN</td>\n",
       "      <td>NaN</td>\n",
       "      <td>0.0</td>\n",
       "      <td>NaN</td>\n",
       "    </tr>\n",
       "    <tr>\n",
       "      <th>1443</th>\n",
       "      <td>Maruti Swift Dzire VDI Optional</td>\n",
       "      <td>2017</td>\n",
       "      <td>589000</td>\n",
       "      <td>41232</td>\n",
       "      <td>Diesel</td>\n",
       "      <td>Dealer</td>\n",
       "      <td>Manual</td>\n",
       "      <td>First Owner</td>\n",
       "      <td>NaN</td>\n",
       "      <td>NaN</td>\n",
       "      <td>0.0</td>\n",
       "      <td>NaN</td>\n",
       "    </tr>\n",
       "    <tr>\n",
       "      <th>2549</th>\n",
       "      <td>Tata Indica Vista Quadrajet LS</td>\n",
       "      <td>2012</td>\n",
       "      <td>240000</td>\n",
       "      <td>70000</td>\n",
       "      <td>Diesel</td>\n",
       "      <td>Individual</td>\n",
       "      <td>Manual</td>\n",
       "      <td>First Owner</td>\n",
       "      <td>NaN</td>\n",
       "      <td>NaN</td>\n",
       "      <td>0.0</td>\n",
       "      <td>NaN</td>\n",
       "    </tr>\n",
       "    <tr>\n",
       "      <th>2550</th>\n",
       "      <td>Tata Indica Vista Quadrajet LS</td>\n",
       "      <td>2012</td>\n",
       "      <td>240000</td>\n",
       "      <td>70000</td>\n",
       "      <td>Diesel</td>\n",
       "      <td>Individual</td>\n",
       "      <td>Manual</td>\n",
       "      <td>First Owner</td>\n",
       "      <td>NaN</td>\n",
       "      <td>NaN</td>\n",
       "      <td>0.0</td>\n",
       "      <td>NaN</td>\n",
       "    </tr>\n",
       "  </tbody>\n",
       "</table>\n",
       "</div>"
      ],
      "text/plain": [
       "                                 name  year  selling_price  km_driven    fuel  \\\n",
       "575               Maruti Alto K10 LXI  2011         204999      97500  Petrol   \n",
       "576               Maruti Alto K10 LXI  2011         204999      97500  Petrol   \n",
       "1442  Maruti Swift Dzire VDI Optional  2017         589000      41232  Diesel   \n",
       "1443  Maruti Swift Dzire VDI Optional  2017         589000      41232  Diesel   \n",
       "2549   Tata Indica Vista Quadrajet LS  2012         240000      70000  Diesel   \n",
       "2550   Tata Indica Vista Quadrajet LS  2012         240000      70000  Diesel   \n",
       "\n",
       "     seller_type transmission        owner  mileage engine  max_power seats  \n",
       "575   Individual       Manual  First Owner      NaN    NaN        0.0   NaN  \n",
       "576   Individual       Manual  First Owner      NaN    NaN        0.0   NaN  \n",
       "1442      Dealer       Manual  First Owner      NaN    NaN        0.0   NaN  \n",
       "1443      Dealer       Manual  First Owner      NaN    NaN        0.0   NaN  \n",
       "2549  Individual       Manual  First Owner      NaN    NaN        0.0   NaN  \n",
       "2550  Individual       Manual  First Owner      NaN    NaN        0.0   NaN  "
      ]
     },
     "execution_count": 16,
     "metadata": {},
     "output_type": "execute_result"
    }
   ],
   "source": [
    "df[df[\"mileage\"].isnull() & df[\"engine\"].isnull() & df[\"seats\"].isnull()]"
   ]
  },
  {
   "cell_type": "code",
   "execution_count": 17,
   "id": "529fcb5c",
   "metadata": {},
   "outputs": [],
   "source": [
    "df.dropna(inplace=True)"
   ]
  },
  {
   "cell_type": "code",
   "execution_count": 18,
   "id": "9c4a2886",
   "metadata": {},
   "outputs": [
    {
     "data": {
      "text/plain": [
       "(7906, 12)"
      ]
     },
     "execution_count": 18,
     "metadata": {},
     "output_type": "execute_result"
    }
   ],
   "source": [
    "df.shape"
   ]
  },
  {
   "cell_type": "code",
   "execution_count": 19,
   "id": "26337510",
   "metadata": {},
   "outputs": [],
   "source": [
    "df[\"engine\"] = df[\"engine\"].astype(int)"
   ]
  },
  {
   "cell_type": "code",
   "execution_count": 20,
   "id": "eacc9e46",
   "metadata": {
    "scrolled": true
   },
   "outputs": [
    {
     "name": "stdout",
     "output_type": "stream",
     "text": [
      "<class 'pandas.core.frame.DataFrame'>\n",
      "Int64Index: 7906 entries, 0 to 8127\n",
      "Data columns (total 12 columns):\n",
      " #   Column         Non-Null Count  Dtype   \n",
      "---  ------         --------------  -----   \n",
      " 0   name           7906 non-null   object  \n",
      " 1   year           7906 non-null   int64   \n",
      " 2   selling_price  7906 non-null   int64   \n",
      " 3   km_driven      7906 non-null   int64   \n",
      " 4   fuel           7906 non-null   object  \n",
      " 5   seller_type    7906 non-null   object  \n",
      " 6   transmission   7906 non-null   object  \n",
      " 7   owner          7906 non-null   object  \n",
      " 8   mileage        7906 non-null   float64 \n",
      " 9   engine         7906 non-null   int32   \n",
      " 10  max_power      7906 non-null   float64 \n",
      " 11  seats          7906 non-null   category\n",
      "dtypes: category(1), float64(2), int32(1), int64(3), object(5)\n",
      "memory usage: 718.4+ KB\n"
     ]
    }
   ],
   "source": [
    "df.info()"
   ]
  },
  {
   "cell_type": "code",
   "execution_count": 21,
   "id": "5c804049",
   "metadata": {},
   "outputs": [],
   "source": [
    "df[\"old\"] = 2022-df[\"year\"]\n",
    "df.drop([\"year\"],axis=1,inplace=True)"
   ]
  },
  {
   "cell_type": "code",
   "execution_count": 22,
   "id": "02107fb7",
   "metadata": {},
   "outputs": [],
   "source": [
    "#EDA"
   ]
  },
  {
   "cell_type": "code",
   "execution_count": 23,
   "id": "77c68a23",
   "metadata": {},
   "outputs": [
    {
     "data": {
      "text/plain": [
       "Diesel    4299\n",
       "Petrol    3520\n",
       "CNG         52\n",
       "LPG         35\n",
       "Name: fuel, dtype: int64"
      ]
     },
     "execution_count": 23,
     "metadata": {},
     "output_type": "execute_result"
    }
   ],
   "source": [
    "df[\"fuel\"].value_counts()"
   ]
  },
  {
   "cell_type": "code",
   "execution_count": 24,
   "id": "ca4f73af",
   "metadata": {},
   "outputs": [
    {
     "data": {
      "image/png": "[encoded data removed]",
      "text/plain": [
       "<Figure size 432x288 with 1 Axes>"
      ]
     },
     "metadata": {
      "needs_background": "light"
     },
     "output_type": "display_data"
    }
   ],
   "source": [
    "sns.countplot(x=\"fuel\",data = df)\n",
    "plt.show()"
   ]
  },
  {
   "cell_type": "code",
   "execution_count": 25,
   "id": "6c52fd77",
   "metadata": {},
   "outputs": [
    {
     "data": {
      "text/plain": [
       "5.0     6254\n",
       "7.0     1120\n",
       "8.0      235\n",
       "4.0      133\n",
       "9.0       80\n",
       "6.0       62\n",
       "10.0      19\n",
       "2.0        2\n",
       "14.0       1\n",
       "Name: seats, dtype: int64"
      ]
     },
     "execution_count": 25,
     "metadata": {},
     "output_type": "execute_result"
    }
   ],
   "source": [
    "df[\"seats\"].value_counts()"
   ]
  },
  {
   "cell_type": "code",
   "execution_count": 26,
   "id": "f852d66b",
   "metadata": {},
   "outputs": [
    {
     "data": {
      "image/png": "[encoded data removed]",
      "text/plain": [
       "<Figure size 432x288 with 1 Axes>"
      ]
     },
     "metadata": {
      "needs_background": "light"
     },
     "output_type": "display_data"
    }
   ],
   "source": [
    "sns.countplot(x=\"seats\",data = df)\n",
    "plt.show()"
   ]
  },
  {
   "cell_type": "code",
   "execution_count": 27,
   "id": "e2c934c4",
   "metadata": {},
   "outputs": [
    {
     "data": {
      "text/plain": [
       "Individual          6563\n",
       "Dealer              1107\n",
       "Trustmark Dealer     236\n",
       "Name: seller_type, dtype: int64"
      ]
     },
     "execution_count": 27,
     "metadata": {},
     "output_type": "execute_result"
    }
   ],
   "source": [
    "df[\"seller_type\"].value_counts()"
   ]
  },
  {
   "cell_type": "code",
   "execution_count": 28,
   "id": "5d19367e",
   "metadata": {},
   "outputs": [
    {
     "data": {
      "image/png": "[encoded data removed]",
      "text/plain": [
       "<Figure size 432x288 with 1 Axes>"
      ]
     },
     "metadata": {
      "needs_background": "light"
     },
     "output_type": "display_data"
    }
   ],
   "source": [
    "sns.countplot(x=\"seller_type\",data = df)\n",
    "plt.show()"
   ]
  },
  {
   "cell_type": "code",
   "execution_count": 29,
   "id": "b0f70dd0",
   "metadata": {},
   "outputs": [
    {
     "data": {
      "text/plain": [
       "Manual       6865\n",
       "Automatic    1041\n",
       "Name: transmission, dtype: int64"
      ]
     },
     "execution_count": 29,
     "metadata": {},
     "output_type": "execute_result"
    }
   ],
   "source": [
    "df[\"transmission\"].value_counts()"
   ]
  },
  {
   "cell_type": "code",
   "execution_count": 30,
   "id": "a4f0865f",
   "metadata": {},
   "outputs": [
    {
     "data": {
      "image/png": "[encoded data removed]",
      "text/plain": [
       "<Figure size 432x288 with 1 Axes>"
      ]
     },
     "metadata": {
      "needs_background": "light"
     },
     "output_type": "display_data"
    }
   ],
   "source": [
    "sns.countplot(x=\"transmission\",data = df)\n",
    "plt.show()"
   ]
  },
  {
   "cell_type": "code",
   "execution_count": 31,
   "id": "331d6a7f",
   "metadata": {},
   "outputs": [
    {
     "data": {
      "text/plain": [
       "First Owner             5215\n",
       "Second Owner            2016\n",
       "Third Owner              510\n",
       "Fourth & Above Owner     160\n",
       "Test Drive Car             5\n",
       "Name: owner, dtype: int64"
      ]
     },
     "execution_count": 31,
     "metadata": {},
     "output_type": "execute_result"
    }
   ],
   "source": [
    "df[\"owner\"].value_counts()"
   ]
  },
  {
   "cell_type": "code",
   "execution_count": 32,
   "id": "2bc1754b",
   "metadata": {},
   "outputs": [
    {
     "data": {
      "image/png": "[encoded data removed]",
      "text/plain": [
       "<Figure size 432x288 with 1 Axes>"
      ]
     },
     "metadata": {
      "needs_background": "light"
     },
     "output_type": "display_data"
    }
   ],
   "source": [
    "sns.countplot(x=\"owner\",data = df)\n",
    "plt.show()"
   ]
  },
  {
   "cell_type": "code",
   "execution_count": 33,
   "id": "f62f20b5",
   "metadata": {},
   "outputs": [
    {
     "data": {
      "text/plain": [
       "<AxesSubplot:xlabel='mileage'>"
      ]
     },
     "execution_count": 33,
     "metadata": {},
     "output_type": "execute_result"
    },
    {
     "data": {
      "image/png": "[encoded data removed]",
      "text/plain": [
       "<Figure size 432x288 with 1 Axes>"
      ]
     },
     "metadata": {
      "needs_background": "light"
     },
     "output_type": "display_data"
    }
   ],
   "source": [
    "sns.boxplot(x=df['mileage'])"
   ]
  },
  {
   "cell_type": "code",
   "execution_count": 34,
   "id": "0b79d7ae",
   "metadata": {},
   "outputs": [
    {
     "data": {
      "text/html": [
       "<div>\n",
       "<style scoped>\n",
       "    .dataframe tbody tr th:only-of-type {\n",
       "        vertical-align: middle;\n",
       "    }\n",
       "\n",
       "    .dataframe tbody tr th {\n",
       "        vertical-align: top;\n",
       "    }\n",
       "\n",
       "    .dataframe thead th {\n",
       "        text-align: right;\n",
       "    }\n",
       "</style>\n",
       "<table border=\"1\" class=\"dataframe\">\n",
       "  <thead>\n",
       "    <tr style=\"text-align: right;\">\n",
       "      <th></th>\n",
       "      <th>name</th>\n",
       "      <th>selling_price</th>\n",
       "      <th>km_driven</th>\n",
       "      <th>fuel</th>\n",
       "      <th>seller_type</th>\n",
       "      <th>transmission</th>\n",
       "      <th>owner</th>\n",
       "      <th>mileage</th>\n",
       "      <th>engine</th>\n",
       "      <th>max_power</th>\n",
       "      <th>seats</th>\n",
       "      <th>old</th>\n",
       "    </tr>\n",
       "  </thead>\n",
       "  <tbody>\n",
       "    <tr>\n",
       "      <th>644</th>\n",
       "      <td>Tata Indica Vista Aura Safire Anniversary Edition</td>\n",
       "      <td>135000</td>\n",
       "      <td>28900</td>\n",
       "      <td>Petrol</td>\n",
       "      <td>Individual</td>\n",
       "      <td>Manual</td>\n",
       "      <td>Second Owner</td>\n",
       "      <td>0.0</td>\n",
       "      <td>1172</td>\n",
       "      <td>65.00</td>\n",
       "      <td>5.0</td>\n",
       "      <td>13</td>\n",
       "    </tr>\n",
       "    <tr>\n",
       "      <th>785</th>\n",
       "      <td>Hyundai Santro Xing GL</td>\n",
       "      <td>120000</td>\n",
       "      <td>90000</td>\n",
       "      <td>Petrol</td>\n",
       "      <td>Individual</td>\n",
       "      <td>Manual</td>\n",
       "      <td>Second Owner</td>\n",
       "      <td>0.0</td>\n",
       "      <td>1086</td>\n",
       "      <td>62.00</td>\n",
       "      <td>5.0</td>\n",
       "      <td>13</td>\n",
       "    </tr>\n",
       "    <tr>\n",
       "      <th>1649</th>\n",
       "      <td>Hyundai Santro Xing GL</td>\n",
       "      <td>105000</td>\n",
       "      <td>128000</td>\n",
       "      <td>Petrol</td>\n",
       "      <td>Individual</td>\n",
       "      <td>Manual</td>\n",
       "      <td>First Owner</td>\n",
       "      <td>0.0</td>\n",
       "      <td>1086</td>\n",
       "      <td>62.00</td>\n",
       "      <td>5.0</td>\n",
       "      <td>14</td>\n",
       "    </tr>\n",
       "    <tr>\n",
       "      <th>1676</th>\n",
       "      <td>Mercedes-Benz M-Class ML 350 4Matic</td>\n",
       "      <td>1700000</td>\n",
       "      <td>110000</td>\n",
       "      <td>Diesel</td>\n",
       "      <td>Individual</td>\n",
       "      <td>Automatic</td>\n",
       "      <td>Third Owner</td>\n",
       "      <td>0.0</td>\n",
       "      <td>2987</td>\n",
       "      <td>165.00</td>\n",
       "      <td>5.0</td>\n",
       "      <td>11</td>\n",
       "    </tr>\n",
       "    <tr>\n",
       "      <th>2137</th>\n",
       "      <td>Land Rover Freelander 2 TD4 HSE</td>\n",
       "      <td>1650000</td>\n",
       "      <td>64788</td>\n",
       "      <td>Diesel</td>\n",
       "      <td>Dealer</td>\n",
       "      <td>Automatic</td>\n",
       "      <td>First Owner</td>\n",
       "      <td>0.0</td>\n",
       "      <td>2179</td>\n",
       "      <td>115.00</td>\n",
       "      <td>5.0</td>\n",
       "      <td>9</td>\n",
       "    </tr>\n",
       "    <tr>\n",
       "      <th>2366</th>\n",
       "      <td>Hyundai Santro Xing (Non-AC)</td>\n",
       "      <td>110000</td>\n",
       "      <td>80000</td>\n",
       "      <td>Petrol</td>\n",
       "      <td>Individual</td>\n",
       "      <td>Manual</td>\n",
       "      <td>Second Owner</td>\n",
       "      <td>0.0</td>\n",
       "      <td>1086</td>\n",
       "      <td>62.10</td>\n",
       "      <td>5.0</td>\n",
       "      <td>12</td>\n",
       "    </tr>\n",
       "    <tr>\n",
       "      <th>2725</th>\n",
       "      <td>Hyundai Santro Xing (Non-AC)</td>\n",
       "      <td>184000</td>\n",
       "      <td>15000</td>\n",
       "      <td>Petrol</td>\n",
       "      <td>Individual</td>\n",
       "      <td>Manual</td>\n",
       "      <td>First Owner</td>\n",
       "      <td>0.0</td>\n",
       "      <td>1086</td>\n",
       "      <td>62.10</td>\n",
       "      <td>5.0</td>\n",
       "      <td>9</td>\n",
       "    </tr>\n",
       "    <tr>\n",
       "      <th>4527</th>\n",
       "      <td>Mercedes-Benz M-Class ML 350 4Matic</td>\n",
       "      <td>1700000</td>\n",
       "      <td>110000</td>\n",
       "      <td>Diesel</td>\n",
       "      <td>Individual</td>\n",
       "      <td>Automatic</td>\n",
       "      <td>Third Owner</td>\n",
       "      <td>0.0</td>\n",
       "      <td>2987</td>\n",
       "      <td>165.00</td>\n",
       "      <td>5.0</td>\n",
       "      <td>11</td>\n",
       "    </tr>\n",
       "    <tr>\n",
       "      <th>5276</th>\n",
       "      <td>Hyundai Santro Xing GL</td>\n",
       "      <td>175000</td>\n",
       "      <td>40000</td>\n",
       "      <td>Petrol</td>\n",
       "      <td>Individual</td>\n",
       "      <td>Manual</td>\n",
       "      <td>First Owner</td>\n",
       "      <td>0.0</td>\n",
       "      <td>1086</td>\n",
       "      <td>62.00</td>\n",
       "      <td>5.0</td>\n",
       "      <td>14</td>\n",
       "    </tr>\n",
       "    <tr>\n",
       "      <th>5843</th>\n",
       "      <td>Volkswagen Polo GT TSI BSIV</td>\n",
       "      <td>574000</td>\n",
       "      <td>28080</td>\n",
       "      <td>Petrol</td>\n",
       "      <td>Dealer</td>\n",
       "      <td>Automatic</td>\n",
       "      <td>First Owner</td>\n",
       "      <td>0.0</td>\n",
       "      <td>1197</td>\n",
       "      <td>103.25</td>\n",
       "      <td>5.0</td>\n",
       "      <td>8</td>\n",
       "    </tr>\n",
       "    <tr>\n",
       "      <th>5846</th>\n",
       "      <td>Volkswagen Polo GT TSI BSIV</td>\n",
       "      <td>575000</td>\n",
       "      <td>28100</td>\n",
       "      <td>Petrol</td>\n",
       "      <td>Dealer</td>\n",
       "      <td>Automatic</td>\n",
       "      <td>First Owner</td>\n",
       "      <td>0.0</td>\n",
       "      <td>1197</td>\n",
       "      <td>103.25</td>\n",
       "      <td>5.0</td>\n",
       "      <td>8</td>\n",
       "    </tr>\n",
       "    <tr>\n",
       "      <th>5900</th>\n",
       "      <td>Mahindra Bolero Pik-Up FB 1.7T</td>\n",
       "      <td>679000</td>\n",
       "      <td>5000</td>\n",
       "      <td>Diesel</td>\n",
       "      <td>Individual</td>\n",
       "      <td>Manual</td>\n",
       "      <td>First Owner</td>\n",
       "      <td>0.0</td>\n",
       "      <td>2523</td>\n",
       "      <td>70.00</td>\n",
       "      <td>2.0</td>\n",
       "      <td>2</td>\n",
       "    </tr>\n",
       "    <tr>\n",
       "      <th>6534</th>\n",
       "      <td>Hyundai Santro Xing GL</td>\n",
       "      <td>150000</td>\n",
       "      <td>110000</td>\n",
       "      <td>Petrol</td>\n",
       "      <td>Individual</td>\n",
       "      <td>Manual</td>\n",
       "      <td>First Owner</td>\n",
       "      <td>0.0</td>\n",
       "      <td>1086</td>\n",
       "      <td>62.00</td>\n",
       "      <td>5.0</td>\n",
       "      <td>12</td>\n",
       "    </tr>\n",
       "    <tr>\n",
       "      <th>6629</th>\n",
       "      <td>Mahindra Bolero Pik-Up CBC 1.7T</td>\n",
       "      <td>722000</td>\n",
       "      <td>80000</td>\n",
       "      <td>Diesel</td>\n",
       "      <td>Individual</td>\n",
       "      <td>Manual</td>\n",
       "      <td>First Owner</td>\n",
       "      <td>0.0</td>\n",
       "      <td>2523</td>\n",
       "      <td>70.00</td>\n",
       "      <td>2.0</td>\n",
       "      <td>3</td>\n",
       "    </tr>\n",
       "    <tr>\n",
       "      <th>6824</th>\n",
       "      <td>Hyundai Santro Xing GL</td>\n",
       "      <td>150000</td>\n",
       "      <td>40000</td>\n",
       "      <td>Petrol</td>\n",
       "      <td>Individual</td>\n",
       "      <td>Manual</td>\n",
       "      <td>Fourth &amp; Above Owner</td>\n",
       "      <td>0.0</td>\n",
       "      <td>1086</td>\n",
       "      <td>62.00</td>\n",
       "      <td>5.0</td>\n",
       "      <td>11</td>\n",
       "    </tr>\n",
       "    <tr>\n",
       "      <th>7002</th>\n",
       "      <td>Hyundai Santro Xing (Non-AC)</td>\n",
       "      <td>110000</td>\n",
       "      <td>80000</td>\n",
       "      <td>Petrol</td>\n",
       "      <td>Individual</td>\n",
       "      <td>Manual</td>\n",
       "      <td>Second Owner</td>\n",
       "      <td>0.0</td>\n",
       "      <td>1086</td>\n",
       "      <td>62.10</td>\n",
       "      <td>5.0</td>\n",
       "      <td>12</td>\n",
       "    </tr>\n",
       "    <tr>\n",
       "      <th>7337</th>\n",
       "      <td>Mercedes-Benz GLC 220d 4MATIC</td>\n",
       "      <td>3300000</td>\n",
       "      <td>60000</td>\n",
       "      <td>Diesel</td>\n",
       "      <td>Dealer</td>\n",
       "      <td>Automatic</td>\n",
       "      <td>First Owner</td>\n",
       "      <td>0.0</td>\n",
       "      <td>1950</td>\n",
       "      <td>194.00</td>\n",
       "      <td>5.0</td>\n",
       "      <td>5</td>\n",
       "    </tr>\n",
       "  </tbody>\n",
       "</table>\n",
       "</div>"
      ],
      "text/plain": [
       "                                                   name  selling_price  \\\n",
       "644   Tata Indica Vista Aura Safire Anniversary Edition         135000   \n",
       "785                              Hyundai Santro Xing GL         120000   \n",
       "1649                             Hyundai Santro Xing GL         105000   \n",
       "1676                Mercedes-Benz M-Class ML 350 4Matic        1700000   \n",
       "2137                    Land Rover Freelander 2 TD4 HSE        1650000   \n",
       "2366                       Hyundai Santro Xing (Non-AC)         110000   \n",
       "2725                       Hyundai Santro Xing (Non-AC)         184000   \n",
       "4527                Mercedes-Benz M-Class ML 350 4Matic        1700000   \n",
       "5276                             Hyundai Santro Xing GL         175000   \n",
       "5843                        Volkswagen Polo GT TSI BSIV         574000   \n",
       "5846                        Volkswagen Polo GT TSI BSIV         575000   \n",
       "5900                     Mahindra Bolero Pik-Up FB 1.7T         679000   \n",
       "6534                             Hyundai Santro Xing GL         150000   \n",
       "6629                    Mahindra Bolero Pik-Up CBC 1.7T         722000   \n",
       "6824                             Hyundai Santro Xing GL         150000   \n",
       "7002                       Hyundai Santro Xing (Non-AC)         110000   \n",
       "7337                      Mercedes-Benz GLC 220d 4MATIC        3300000   \n",
       "\n",
       "      km_driven    fuel seller_type transmission                 owner  \\\n",
       "644       28900  Petrol  Individual       Manual          Second Owner   \n",
       "785       90000  Petrol  Individual       Manual          Second Owner   \n",
       "1649     128000  Petrol  Individual       Manual           First Owner   \n",
       "1676     110000  Diesel  Individual    Automatic           Third Owner   \n",
       "2137      64788  Diesel      Dealer    Automatic           First Owner   \n",
       "2366      80000  Petrol  Individual       Manual          Second Owner   \n",
       "2725      15000  Petrol  Individual       Manual           First Owner   \n",
       "4527     110000  Diesel  Individual    Automatic           Third Owner   \n",
       "5276      40000  Petrol  Individual       Manual           First Owner   \n",
       "5843      28080  Petrol      Dealer    Automatic           First Owner   \n",
       "5846      28100  Petrol      Dealer    Automatic           First Owner   \n",
       "5900       5000  Diesel  Individual       Manual           First Owner   \n",
       "6534     110000  Petrol  Individual       Manual           First Owner   \n",
       "6629      80000  Diesel  Individual       Manual           First Owner   \n",
       "6824      40000  Petrol  Individual       Manual  Fourth & Above Owner   \n",
       "7002      80000  Petrol  Individual       Manual          Second Owner   \n",
       "7337      60000  Diesel      Dealer    Automatic           First Owner   \n",
       "\n",
       "      mileage  engine  max_power seats  old  \n",
       "644       0.0    1172      65.00   5.0   13  \n",
       "785       0.0    1086      62.00   5.0   13  \n",
       "1649      0.0    1086      62.00   5.0   14  \n",
       "1676      0.0    2987     165.00   5.0   11  \n",
       "2137      0.0    2179     115.00   5.0    9  \n",
       "2366      0.0    1086      62.10   5.0   12  \n",
       "2725      0.0    1086      62.10   5.0    9  \n",
       "4527      0.0    2987     165.00   5.0   11  \n",
       "5276      0.0    1086      62.00   5.0   14  \n",
       "5843      0.0    1197     103.25   5.0    8  \n",
       "5846      0.0    1197     103.25   5.0    8  \n",
       "5900      0.0    2523      70.00   2.0    2  \n",
       "6534      0.0    1086      62.00   5.0   12  \n",
       "6629      0.0    2523      70.00   2.0    3  \n",
       "6824      0.0    1086      62.00   5.0   11  \n",
       "7002      0.0    1086      62.10   5.0   12  \n",
       "7337      0.0    1950     194.00   5.0    5  "
      ]
     },
     "execution_count": 34,
     "metadata": {},
     "output_type": "execute_result"
    }
   ],
   "source": [
    "df[df[\"mileage\"]==0]"
   ]
  },
  {
   "cell_type": "code",
   "execution_count": 35,
   "id": "d05ad8f4",
   "metadata": {},
   "outputs": [],
   "source": [
    "df=df[df[\"mileage\"]!=0]"
   ]
  },
  {
   "cell_type": "code",
   "execution_count": 36,
   "id": "f2b92c87",
   "metadata": {},
   "outputs": [
    {
     "data": {
      "text/plain": [
       "<function matplotlib.pyplot.show(close=None, block=None)>"
      ]
     },
     "execution_count": 36,
     "metadata": {},
     "output_type": "execute_result"
    },
    {
     "data": {
      "image/png": "[encoded data removed]",
      "text/plain": [
       "<Figure size 432x288 with 1 Axes>"
      ]
     },
     "metadata": {
      "needs_background": "light"
     },
     "output_type": "display_data"
    }
   ],
   "source": [
    "sns.boxplot(x=df['engine'])\n",
    "plt.show"
   ]
  },
  {
   "cell_type": "code",
   "execution_count": 37,
   "id": "ff04a6c3",
   "metadata": {},
   "outputs": [
    {
     "data": {
      "text/html": [
       "<div>\n",
       "<style scoped>\n",
       "    .dataframe tbody tr th:only-of-type {\n",
       "        vertical-align: middle;\n",
       "    }\n",
       "\n",
       "    .dataframe tbody tr th {\n",
       "        vertical-align: top;\n",
       "    }\n",
       "\n",
       "    .dataframe thead th {\n",
       "        text-align: right;\n",
       "    }\n",
       "</style>\n",
       "<table border=\"1\" class=\"dataframe\">\n",
       "  <thead>\n",
       "    <tr style=\"text-align: right;\">\n",
       "      <th></th>\n",
       "      <th>name</th>\n",
       "      <th>selling_price</th>\n",
       "      <th>km_driven</th>\n",
       "      <th>fuel</th>\n",
       "      <th>seller_type</th>\n",
       "      <th>transmission</th>\n",
       "      <th>owner</th>\n",
       "      <th>mileage</th>\n",
       "      <th>engine</th>\n",
       "      <th>max_power</th>\n",
       "      <th>seats</th>\n",
       "      <th>old</th>\n",
       "    </tr>\n",
       "  </thead>\n",
       "  <tbody>\n",
       "    <tr>\n",
       "      <th>134</th>\n",
       "      <td>Jeep Wrangler 2016-2019 3.6 4X4</td>\n",
       "      <td>4100000</td>\n",
       "      <td>17000</td>\n",
       "      <td>Petrol</td>\n",
       "      <td>Individual</td>\n",
       "      <td>Automatic</td>\n",
       "      <td>First Owner</td>\n",
       "      <td>9.5</td>\n",
       "      <td>3604</td>\n",
       "      <td>280.0</td>\n",
       "      <td>5.0</td>\n",
       "      <td>5</td>\n",
       "    </tr>\n",
       "    <tr>\n",
       "      <th>1564</th>\n",
       "      <td>Jeep Wrangler 2016-2019 3.6 4X4</td>\n",
       "      <td>4100000</td>\n",
       "      <td>17000</td>\n",
       "      <td>Petrol</td>\n",
       "      <td>Individual</td>\n",
       "      <td>Automatic</td>\n",
       "      <td>First Owner</td>\n",
       "      <td>9.5</td>\n",
       "      <td>3604</td>\n",
       "      <td>280.0</td>\n",
       "      <td>5.0</td>\n",
       "      <td>5</td>\n",
       "    </tr>\n",
       "    <tr>\n",
       "      <th>1860</th>\n",
       "      <td>Jeep Wrangler 2016-2019 3.6 4X4</td>\n",
       "      <td>4100000</td>\n",
       "      <td>17000</td>\n",
       "      <td>Petrol</td>\n",
       "      <td>Individual</td>\n",
       "      <td>Automatic</td>\n",
       "      <td>First Owner</td>\n",
       "      <td>9.5</td>\n",
       "      <td>3604</td>\n",
       "      <td>280.0</td>\n",
       "      <td>5.0</td>\n",
       "      <td>5</td>\n",
       "    </tr>\n",
       "    <tr>\n",
       "      <th>3239</th>\n",
       "      <td>Jeep Wrangler 2016-2019 3.6 4X4</td>\n",
       "      <td>4100000</td>\n",
       "      <td>17000</td>\n",
       "      <td>Petrol</td>\n",
       "      <td>Individual</td>\n",
       "      <td>Automatic</td>\n",
       "      <td>First Owner</td>\n",
       "      <td>9.5</td>\n",
       "      <td>3604</td>\n",
       "      <td>280.0</td>\n",
       "      <td>5.0</td>\n",
       "      <td>5</td>\n",
       "    </tr>\n",
       "    <tr>\n",
       "      <th>5248</th>\n",
       "      <td>Jeep Wrangler 2016-2019 3.6 4X4</td>\n",
       "      <td>4100000</td>\n",
       "      <td>17000</td>\n",
       "      <td>Petrol</td>\n",
       "      <td>Individual</td>\n",
       "      <td>Automatic</td>\n",
       "      <td>First Owner</td>\n",
       "      <td>9.5</td>\n",
       "      <td>3604</td>\n",
       "      <td>280.0</td>\n",
       "      <td>5.0</td>\n",
       "      <td>5</td>\n",
       "    </tr>\n",
       "    <tr>\n",
       "      <th>7703</th>\n",
       "      <td>Jeep Wrangler 2016-2019 3.6 4X4</td>\n",
       "      <td>4100000</td>\n",
       "      <td>17000</td>\n",
       "      <td>Petrol</td>\n",
       "      <td>Individual</td>\n",
       "      <td>Automatic</td>\n",
       "      <td>First Owner</td>\n",
       "      <td>9.5</td>\n",
       "      <td>3604</td>\n",
       "      <td>280.0</td>\n",
       "      <td>5.0</td>\n",
       "      <td>5</td>\n",
       "    </tr>\n",
       "  </tbody>\n",
       "</table>\n",
       "</div>"
      ],
      "text/plain": [
       "                                 name  selling_price  km_driven    fuel  \\\n",
       "134   Jeep Wrangler 2016-2019 3.6 4X4        4100000      17000  Petrol   \n",
       "1564  Jeep Wrangler 2016-2019 3.6 4X4        4100000      17000  Petrol   \n",
       "1860  Jeep Wrangler 2016-2019 3.6 4X4        4100000      17000  Petrol   \n",
       "3239  Jeep Wrangler 2016-2019 3.6 4X4        4100000      17000  Petrol   \n",
       "5248  Jeep Wrangler 2016-2019 3.6 4X4        4100000      17000  Petrol   \n",
       "7703  Jeep Wrangler 2016-2019 3.6 4X4        4100000      17000  Petrol   \n",
       "\n",
       "     seller_type transmission        owner  mileage  engine  max_power seats  \\\n",
       "134   Individual    Automatic  First Owner      9.5    3604      280.0   5.0   \n",
       "1564  Individual    Automatic  First Owner      9.5    3604      280.0   5.0   \n",
       "1860  Individual    Automatic  First Owner      9.5    3604      280.0   5.0   \n",
       "3239  Individual    Automatic  First Owner      9.5    3604      280.0   5.0   \n",
       "5248  Individual    Automatic  First Owner      9.5    3604      280.0   5.0   \n",
       "7703  Individual    Automatic  First Owner      9.5    3604      280.0   5.0   \n",
       "\n",
       "      old  \n",
       "134     5  \n",
       "1564    5  \n",
       "1860    5  \n",
       "3239    5  \n",
       "5248    5  \n",
       "7703    5  "
      ]
     },
     "execution_count": 37,
     "metadata": {},
     "output_type": "execute_result"
    }
   ],
   "source": [
    "df[df[\"engine\"]>3500]"
   ]
  },
  {
   "cell_type": "code",
   "execution_count": 38,
   "id": "92c434f0",
   "metadata": {},
   "outputs": [],
   "source": [
    "df=df.drop_duplicates()"
   ]
  },
  {
   "cell_type": "code",
   "execution_count": 39,
   "id": "803e5dc7",
   "metadata": {},
   "outputs": [
    {
     "data": {
      "text/plain": [
       "(6702, 12)"
      ]
     },
     "execution_count": 39,
     "metadata": {},
     "output_type": "execute_result"
    }
   ],
   "source": [
    "df.shape"
   ]
  },
  {
   "cell_type": "code",
   "execution_count": 40,
   "id": "72503b4e",
   "metadata": {},
   "outputs": [
    {
     "data": {
      "image/png": "[encoded data removed]",
      "text/plain": [
       "<Figure size 432x288 with 1 Axes>"
      ]
     },
     "metadata": {
      "needs_background": "light"
     },
     "output_type": "display_data"
    }
   ],
   "source": [
    "sns.distplot(df[\"selling_price\"],hist=True, kde=True, bins=40).set_title('Distribution of Sale Price')\n",
    "plt.show()"
   ]
  },
  {
   "cell_type": "code",
   "execution_count": 41,
   "id": "4572e207",
   "metadata": {},
   "outputs": [
    {
     "data": {
      "image/png": "[encoded data removed]",
      "text/plain": [
       "<Figure size 432x288 with 2 Axes>"
      ]
     },
     "metadata": {
      "needs_background": "light"
     },
     "output_type": "display_data"
    }
   ],
   "source": [
    "sns.heatmap(df.corr())\n",
    "plt.show()"
   ]
  },
  {
   "cell_type": "code",
   "execution_count": 42,
   "id": "3ad0ecd7",
   "metadata": {},
   "outputs": [],
   "source": [
    "#selling price is negatively correlated with old variable, km_driven as expected, means as number of years increases or km_driven increses sp decreases\n",
    "#selling price is positevly correlated with max_power and engine"
   ]
  },
  {
   "cell_type": "code",
   "execution_count": 43,
   "id": "08676dcf",
   "metadata": {},
   "outputs": [],
   "source": [
    "#Drop car name as it is insignificant to our regression analysis.\n",
    "df.drop([\"name\"],axis=1,inplace=True)"
   ]
  },
  {
   "cell_type": "code",
   "execution_count": 44,
   "id": "4dfa3f42",
   "metadata": {},
   "outputs": [],
   "source": [
    "#REGRESSION ANALYSIS"
   ]
  },
  {
   "cell_type": "code",
   "execution_count": 45,
   "id": "82fa23c4",
   "metadata": {},
   "outputs": [],
   "source": [
    "# split the data into X and y\n",
    "y = df.pop(\"selling_price\")\n",
    "X = df"
   ]
  },
  {
   "cell_type": "code",
   "execution_count": 46,
   "id": "1e88cc4a",
   "metadata": {},
   "outputs": [],
   "source": [
    "# split data into train and test\n",
    "X_train,X_test,y_train,y_test = train_test_split(X,y,test_size=0.3,random_state=1)"
   ]
  },
  {
   "cell_type": "code",
   "execution_count": 47,
   "id": "ecacb91d",
   "metadata": {},
   "outputs": [
    {
     "data": {
      "image/png": "[encoded data removed]",
      "text/plain": [
       "<Figure size 432x288 with 1 Axes>"
      ]
     },
     "metadata": {
      "needs_background": "light"
     },
     "output_type": "display_data"
    }
   ],
   "source": [
    "sns.distplot(y_train, hist=True, kde=True, bins=40).set_title('Distribution of Sale Price')\n",
    "plt.show()"
   ]
  },
  {
   "cell_type": "code",
   "execution_count": 48,
   "id": "5582b431",
   "metadata": {},
   "outputs": [],
   "source": [
    "# apply log transformation on y_train\n",
    "y_train=np.log(y_train)"
   ]
  },
  {
   "cell_type": "code",
   "execution_count": 49,
   "id": "83d67ad9",
   "metadata": {},
   "outputs": [
    {
     "data": {
      "image/png": "[encoded data removed]",
      "text/plain": [
       "<Figure size 432x288 with 1 Axes>"
      ]
     },
     "metadata": {
      "needs_background": "light"
     },
     "output_type": "display_data"
    }
   ],
   "source": [
    "sns.distplot(y_train, hist=True, kde=True, bins=40).set_title('Distribution of Sale Price')\n",
    "plt.show()"
   ]
  },
  {
   "cell_type": "code",
   "execution_count": 50,
   "id": "94b2365f",
   "metadata": {},
   "outputs": [],
   "source": [
    "# select categorical data and apply get_dummies function on them\n",
    "categorical_df = X_train.select_dtypes(include=['object',\"category\"])\n",
    "dummies = pd.get_dummies(categorical_df, drop_first=True)\n",
    "\n",
    "# drop categories for which we created dummy variables\n",
    "X_train = X_train.drop(list(categorical_df.columns), axis=1)\n",
    "\n",
    "# concat both dummy vars df and original df\n",
    "X_train = pd.concat([X_train,dummies], axis=1)"
   ]
  },
  {
   "cell_type": "code",
   "execution_count": 51,
   "id": "d4344b3a",
   "metadata": {},
   "outputs": [
    {
     "data": {
      "text/html": [
       "<div>\n",
       "<style scoped>\n",
       "    .dataframe tbody tr th:only-of-type {\n",
       "        vertical-align: middle;\n",
       "    }\n",
       "\n",
       "    .dataframe tbody tr th {\n",
       "        vertical-align: top;\n",
       "    }\n",
       "\n",
       "    .dataframe thead th {\n",
       "        text-align: right;\n",
       "    }\n",
       "</style>\n",
       "<table border=\"1\" class=\"dataframe\">\n",
       "  <thead>\n",
       "    <tr style=\"text-align: right;\">\n",
       "      <th></th>\n",
       "      <th>km_driven</th>\n",
       "      <th>mileage</th>\n",
       "      <th>engine</th>\n",
       "      <th>max_power</th>\n",
       "      <th>old</th>\n",
       "      <th>fuel_Diesel</th>\n",
       "      <th>fuel_LPG</th>\n",
       "      <th>fuel_Petrol</th>\n",
       "      <th>seller_type_Individual</th>\n",
       "      <th>seller_type_Trustmark Dealer</th>\n",
       "      <th>...</th>\n",
       "      <th>owner_Test Drive Car</th>\n",
       "      <th>owner_Third Owner</th>\n",
       "      <th>seats_4.0</th>\n",
       "      <th>seats_5.0</th>\n",
       "      <th>seats_6.0</th>\n",
       "      <th>seats_7.0</th>\n",
       "      <th>seats_8.0</th>\n",
       "      <th>seats_9.0</th>\n",
       "      <th>seats_10.0</th>\n",
       "      <th>seats_14.0</th>\n",
       "    </tr>\n",
       "  </thead>\n",
       "  <tbody>\n",
       "    <tr>\n",
       "      <th>4868</th>\n",
       "      <td>0.025418</td>\n",
       "      <td>0.133333</td>\n",
       "      <td>0.392617</td>\n",
       "      <td>0.251089</td>\n",
       "      <td>0.461538</td>\n",
       "      <td>0.0</td>\n",
       "      <td>0.0</td>\n",
       "      <td>1.0</td>\n",
       "      <td>1.0</td>\n",
       "      <td>0.0</td>\n",
       "      <td>...</td>\n",
       "      <td>0.0</td>\n",
       "      <td>0.0</td>\n",
       "      <td>0.0</td>\n",
       "      <td>1.0</td>\n",
       "      <td>0.0</td>\n",
       "      <td>0.0</td>\n",
       "      <td>0.0</td>\n",
       "      <td>0.0</td>\n",
       "      <td>0.0</td>\n",
       "      <td>0.0</td>\n",
       "    </tr>\n",
       "    <tr>\n",
       "      <th>5967</th>\n",
       "      <td>0.016945</td>\n",
       "      <td>0.416364</td>\n",
       "      <td>0.057718</td>\n",
       "      <td>0.039488</td>\n",
       "      <td>0.192308</td>\n",
       "      <td>0.0</td>\n",
       "      <td>0.0</td>\n",
       "      <td>1.0</td>\n",
       "      <td>1.0</td>\n",
       "      <td>0.0</td>\n",
       "      <td>...</td>\n",
       "      <td>0.0</td>\n",
       "      <td>0.0</td>\n",
       "      <td>0.0</td>\n",
       "      <td>1.0</td>\n",
       "      <td>0.0</td>\n",
       "      <td>0.0</td>\n",
       "      <td>0.0</td>\n",
       "      <td>0.0</td>\n",
       "      <td>0.0</td>\n",
       "      <td>0.0</td>\n",
       "    </tr>\n",
       "    <tr>\n",
       "      <th>2512</th>\n",
       "      <td>0.050837</td>\n",
       "      <td>0.333333</td>\n",
       "      <td>0.260067</td>\n",
       "      <td>0.095861</td>\n",
       "      <td>0.384615</td>\n",
       "      <td>1.0</td>\n",
       "      <td>0.0</td>\n",
       "      <td>0.0</td>\n",
       "      <td>1.0</td>\n",
       "      <td>0.0</td>\n",
       "      <td>...</td>\n",
       "      <td>0.0</td>\n",
       "      <td>0.0</td>\n",
       "      <td>0.0</td>\n",
       "      <td>1.0</td>\n",
       "      <td>0.0</td>\n",
       "      <td>0.0</td>\n",
       "      <td>0.0</td>\n",
       "      <td>0.0</td>\n",
       "      <td>0.0</td>\n",
       "      <td>0.0</td>\n",
       "    </tr>\n",
       "    <tr>\n",
       "      <th>6869</th>\n",
       "      <td>0.002118</td>\n",
       "      <td>0.490000</td>\n",
       "      <td>0.058725</td>\n",
       "      <td>0.055828</td>\n",
       "      <td>0.115385</td>\n",
       "      <td>0.0</td>\n",
       "      <td>0.0</td>\n",
       "      <td>1.0</td>\n",
       "      <td>1.0</td>\n",
       "      <td>0.0</td>\n",
       "      <td>...</td>\n",
       "      <td>0.0</td>\n",
       "      <td>0.0</td>\n",
       "      <td>0.0</td>\n",
       "      <td>1.0</td>\n",
       "      <td>0.0</td>\n",
       "      <td>0.0</td>\n",
       "      <td>0.0</td>\n",
       "      <td>0.0</td>\n",
       "      <td>0.0</td>\n",
       "      <td>0.0</td>\n",
       "    </tr>\n",
       "    <tr>\n",
       "      <th>4556</th>\n",
       "      <td>0.025418</td>\n",
       "      <td>0.451515</td>\n",
       "      <td>0.000000</td>\n",
       "      <td>0.012745</td>\n",
       "      <td>0.192308</td>\n",
       "      <td>0.0</td>\n",
       "      <td>0.0</td>\n",
       "      <td>1.0</td>\n",
       "      <td>1.0</td>\n",
       "      <td>0.0</td>\n",
       "      <td>...</td>\n",
       "      <td>0.0</td>\n",
       "      <td>0.0</td>\n",
       "      <td>1.0</td>\n",
       "      <td>0.0</td>\n",
       "      <td>0.0</td>\n",
       "      <td>0.0</td>\n",
       "      <td>0.0</td>\n",
       "      <td>0.0</td>\n",
       "      <td>0.0</td>\n",
       "      <td>0.0</td>\n",
       "    </tr>\n",
       "  </tbody>\n",
       "</table>\n",
       "<p>5 rows × 23 columns</p>\n",
       "</div>"
      ],
      "text/plain": [
       "      km_driven   mileage    engine  max_power       old  fuel_Diesel  \\\n",
       "4868   0.025418  0.133333  0.392617   0.251089  0.461538          0.0   \n",
       "5967   0.016945  0.416364  0.057718   0.039488  0.192308          0.0   \n",
       "2512   0.050837  0.333333  0.260067   0.095861  0.384615          1.0   \n",
       "6869   0.002118  0.490000  0.058725   0.055828  0.115385          0.0   \n",
       "4556   0.025418  0.451515  0.000000   0.012745  0.192308          0.0   \n",
       "\n",
       "      fuel_LPG  fuel_Petrol  seller_type_Individual  \\\n",
       "4868       0.0          1.0                     1.0   \n",
       "5967       0.0          1.0                     1.0   \n",
       "2512       0.0          0.0                     1.0   \n",
       "6869       0.0          1.0                     1.0   \n",
       "4556       0.0          1.0                     1.0   \n",
       "\n",
       "      seller_type_Trustmark Dealer  ...  owner_Test Drive Car  \\\n",
       "4868                           0.0  ...                   0.0   \n",
       "5967                           0.0  ...                   0.0   \n",
       "2512                           0.0  ...                   0.0   \n",
       "6869                           0.0  ...                   0.0   \n",
       "4556                           0.0  ...                   0.0   \n",
       "\n",
       "      owner_Third Owner  seats_4.0  seats_5.0  seats_6.0  seats_7.0  \\\n",
       "4868                0.0        0.0        1.0        0.0        0.0   \n",
       "5967                0.0        0.0        1.0        0.0        0.0   \n",
       "2512                0.0        0.0        1.0        0.0        0.0   \n",
       "6869                0.0        0.0        1.0        0.0        0.0   \n",
       "4556                0.0        1.0        0.0        0.0        0.0   \n",
       "\n",
       "      seats_8.0  seats_9.0  seats_10.0  seats_14.0  \n",
       "4868        0.0        0.0         0.0         0.0  \n",
       "5967        0.0        0.0         0.0         0.0  \n",
       "2512        0.0        0.0         0.0         0.0  \n",
       "6869        0.0        0.0         0.0         0.0  \n",
       "4556        0.0        0.0         0.0         0.0  \n",
       "\n",
       "[5 rows x 23 columns]"
      ]
     },
     "execution_count": 51,
     "metadata": {},
     "output_type": "execute_result"
    }
   ],
   "source": [
    "scaler = MinMaxScaler()\n",
    "X_train = pd.DataFrame(scaler.fit_transform(X_train),columns = X_train.columns,index=X_train.index)\n",
    "X_train.head()"
   ]
  },
  {
   "cell_type": "code",
   "execution_count": 52,
   "id": "6601b186",
   "metadata": {},
   "outputs": [
    {
     "data": {
      "text/plain": [
       "LinearRegression()"
      ]
     },
     "execution_count": 52,
     "metadata": {},
     "output_type": "execute_result"
    }
   ],
   "source": [
    "reg = LinearRegression() \n",
    "reg.fit(X_train,y_train)"
   ]
  },
  {
   "cell_type": "code",
   "execution_count": 53,
   "id": "46d87e7d",
   "metadata": {},
   "outputs": [],
   "source": [
    "y_pred_train = reg.predict(X_train)"
   ]
  },
  {
   "cell_type": "code",
   "execution_count": 54,
   "id": "faf7710c",
   "metadata": {},
   "outputs": [
    {
     "name": "stdout",
     "output_type": "stream",
     "text": [
      "0.8497821934534971\n",
      "401.6445664119136\n",
      "0.08562024438540047\n"
     ]
    }
   ],
   "source": [
    "r2_train_lr = r2_score(y_train, y_pred_train)\n",
    "print(r2_train_lr)\n",
    "\n",
    "rss1_lr = np.sum(np.square(y_train - y_pred_train))\n",
    "print(rss1_lr)\n",
    "\n",
    "\n",
    "mse_train_lr = mean_squared_error(y_train, y_pred_train)\n",
    "print(mse_train_lr)"
   ]
  },
  {
   "cell_type": "code",
   "execution_count": 55,
   "id": "a7323b0d",
   "metadata": {},
   "outputs": [
    {
     "data": {
      "text/html": [
       "<div>\n",
       "<style scoped>\n",
       "    .dataframe tbody tr th:only-of-type {\n",
       "        vertical-align: middle;\n",
       "    }\n",
       "\n",
       "    .dataframe tbody tr th {\n",
       "        vertical-align: top;\n",
       "    }\n",
       "\n",
       "    .dataframe thead th {\n",
       "        text-align: right;\n",
       "    }\n",
       "</style>\n",
       "<table border=\"1\" class=\"dataframe\">\n",
       "  <thead>\n",
       "    <tr style=\"text-align: right;\">\n",
       "      <th></th>\n",
       "      <th>km_driven</th>\n",
       "      <th>mileage</th>\n",
       "      <th>engine</th>\n",
       "      <th>max_power</th>\n",
       "      <th>old</th>\n",
       "      <th>fuel_Diesel</th>\n",
       "      <th>fuel_LPG</th>\n",
       "      <th>fuel_Petrol</th>\n",
       "      <th>seller_type_Individual</th>\n",
       "      <th>seller_type_Trustmark Dealer</th>\n",
       "      <th>...</th>\n",
       "      <th>owner_Test Drive Car</th>\n",
       "      <th>owner_Third Owner</th>\n",
       "      <th>seats_4.0</th>\n",
       "      <th>seats_5.0</th>\n",
       "      <th>seats_6.0</th>\n",
       "      <th>seats_7.0</th>\n",
       "      <th>seats_8.0</th>\n",
       "      <th>seats_9.0</th>\n",
       "      <th>seats_10.0</th>\n",
       "      <th>seats_14.0</th>\n",
       "    </tr>\n",
       "  </thead>\n",
       "  <tbody>\n",
       "    <tr>\n",
       "      <th>2844</th>\n",
       "      <td>0.044483</td>\n",
       "      <td>0.436364</td>\n",
       "      <td>0.209396</td>\n",
       "      <td>0.112200</td>\n",
       "      <td>0.269231</td>\n",
       "      <td>1.0</td>\n",
       "      <td>0.0</td>\n",
       "      <td>0.0</td>\n",
       "      <td>1.0</td>\n",
       "      <td>0.0</td>\n",
       "      <td>...</td>\n",
       "      <td>0.0</td>\n",
       "      <td>1.0</td>\n",
       "      <td>0.0</td>\n",
       "      <td>1.0</td>\n",
       "      <td>0.0</td>\n",
       "      <td>0.0</td>\n",
       "      <td>0.0</td>\n",
       "      <td>0.0</td>\n",
       "      <td>0.0</td>\n",
       "      <td>0.0</td>\n",
       "    </tr>\n",
       "    <tr>\n",
       "      <th>1691</th>\n",
       "      <td>0.002118</td>\n",
       "      <td>0.352424</td>\n",
       "      <td>0.192617</td>\n",
       "      <td>0.093137</td>\n",
       "      <td>0.076923</td>\n",
       "      <td>0.0</td>\n",
       "      <td>0.0</td>\n",
       "      <td>1.0</td>\n",
       "      <td>1.0</td>\n",
       "      <td>0.0</td>\n",
       "      <td>...</td>\n",
       "      <td>0.0</td>\n",
       "      <td>0.0</td>\n",
       "      <td>0.0</td>\n",
       "      <td>1.0</td>\n",
       "      <td>0.0</td>\n",
       "      <td>0.0</td>\n",
       "      <td>0.0</td>\n",
       "      <td>0.0</td>\n",
       "      <td>0.0</td>\n",
       "      <td>0.0</td>\n",
       "    </tr>\n",
       "    <tr>\n",
       "      <th>2939</th>\n",
       "      <td>0.004236</td>\n",
       "      <td>0.193030</td>\n",
       "      <td>0.191946</td>\n",
       "      <td>0.109477</td>\n",
       "      <td>0.115385</td>\n",
       "      <td>0.0</td>\n",
       "      <td>0.0</td>\n",
       "      <td>1.0</td>\n",
       "      <td>1.0</td>\n",
       "      <td>0.0</td>\n",
       "      <td>...</td>\n",
       "      <td>0.0</td>\n",
       "      <td>0.0</td>\n",
       "      <td>0.0</td>\n",
       "      <td>1.0</td>\n",
       "      <td>0.0</td>\n",
       "      <td>0.0</td>\n",
       "      <td>0.0</td>\n",
       "      <td>0.0</td>\n",
       "      <td>0.0</td>\n",
       "      <td>0.0</td>\n",
       "    </tr>\n",
       "    <tr>\n",
       "      <th>675</th>\n",
       "      <td>0.033891</td>\n",
       "      <td>0.306061</td>\n",
       "      <td>0.192282</td>\n",
       "      <td>0.133987</td>\n",
       "      <td>0.153846</td>\n",
       "      <td>0.0</td>\n",
       "      <td>0.0</td>\n",
       "      <td>1.0</td>\n",
       "      <td>1.0</td>\n",
       "      <td>0.0</td>\n",
       "      <td>...</td>\n",
       "      <td>0.0</td>\n",
       "      <td>0.0</td>\n",
       "      <td>0.0</td>\n",
       "      <td>1.0</td>\n",
       "      <td>0.0</td>\n",
       "      <td>0.0</td>\n",
       "      <td>0.0</td>\n",
       "      <td>0.0</td>\n",
       "      <td>0.0</td>\n",
       "      <td>0.0</td>\n",
       "    </tr>\n",
       "    <tr>\n",
       "      <th>3701</th>\n",
       "      <td>0.029655</td>\n",
       "      <td>0.290909</td>\n",
       "      <td>0.192282</td>\n",
       "      <td>0.144336</td>\n",
       "      <td>0.307692</td>\n",
       "      <td>0.0</td>\n",
       "      <td>0.0</td>\n",
       "      <td>1.0</td>\n",
       "      <td>1.0</td>\n",
       "      <td>0.0</td>\n",
       "      <td>...</td>\n",
       "      <td>0.0</td>\n",
       "      <td>0.0</td>\n",
       "      <td>0.0</td>\n",
       "      <td>1.0</td>\n",
       "      <td>0.0</td>\n",
       "      <td>0.0</td>\n",
       "      <td>0.0</td>\n",
       "      <td>0.0</td>\n",
       "      <td>0.0</td>\n",
       "      <td>0.0</td>\n",
       "    </tr>\n",
       "  </tbody>\n",
       "</table>\n",
       "<p>5 rows × 23 columns</p>\n",
       "</div>"
      ],
      "text/plain": [
       "      km_driven   mileage    engine  max_power       old  fuel_Diesel  \\\n",
       "2844   0.044483  0.436364  0.209396   0.112200  0.269231          1.0   \n",
       "1691   0.002118  0.352424  0.192617   0.093137  0.076923          0.0   \n",
       "2939   0.004236  0.193030  0.191946   0.109477  0.115385          0.0   \n",
       "675    0.033891  0.306061  0.192282   0.133987  0.153846          0.0   \n",
       "3701   0.029655  0.290909  0.192282   0.144336  0.307692          0.0   \n",
       "\n",
       "      fuel_LPG  fuel_Petrol  seller_type_Individual  \\\n",
       "2844       0.0          0.0                     1.0   \n",
       "1691       0.0          1.0                     1.0   \n",
       "2939       0.0          1.0                     1.0   \n",
       "675        0.0          1.0                     1.0   \n",
       "3701       0.0          1.0                     1.0   \n",
       "\n",
       "      seller_type_Trustmark Dealer  ...  owner_Test Drive Car  \\\n",
       "2844                           0.0  ...                   0.0   \n",
       "1691                           0.0  ...                   0.0   \n",
       "2939                           0.0  ...                   0.0   \n",
       "675                            0.0  ...                   0.0   \n",
       "3701                           0.0  ...                   0.0   \n",
       "\n",
       "      owner_Third Owner  seats_4.0  seats_5.0  seats_6.0  seats_7.0  \\\n",
       "2844                1.0        0.0        1.0        0.0        0.0   \n",
       "1691                0.0        0.0        1.0        0.0        0.0   \n",
       "2939                0.0        0.0        1.0        0.0        0.0   \n",
       "675                 0.0        0.0        1.0        0.0        0.0   \n",
       "3701                0.0        0.0        1.0        0.0        0.0   \n",
       "\n",
       "      seats_8.0  seats_9.0  seats_10.0  seats_14.0  \n",
       "2844        0.0        0.0         0.0         0.0  \n",
       "1691        0.0        0.0         0.0         0.0  \n",
       "2939        0.0        0.0         0.0         0.0  \n",
       "675         0.0        0.0         0.0         0.0  \n",
       "3701        0.0        0.0         0.0         0.0  \n",
       "\n",
       "[5 rows x 23 columns]"
      ]
     },
     "execution_count": 55,
     "metadata": {},
     "output_type": "execute_result"
    }
   ],
   "source": [
    "# Apply same steps on test data as performed for training data\n",
    "\n",
    "# apply log transformation on y_train\n",
    "y_test = np.log(y_test)\n",
    "# select categorical data and apply get_dummies function on them\n",
    "categorical_df = X_test.select_dtypes(include=['object',\"category\"])\n",
    "dummies = pd.get_dummies(categorical_df, drop_first=True)\n",
    "\n",
    "# drop categories for which we created dummy variables\n",
    "X_test = X_test.drop(list(categorical_df.columns), axis=1)\n",
    "\n",
    "# concat both dummy vars df and original df\n",
    "X_test = pd.concat([X_test,dummies], axis=1)\n",
    "\n",
    "# Apply min max scaling to bring down the values to range from 0-1\n",
    "X_test = pd.DataFrame(scaler.transform(X_test),columns = X_test.columns,index=X_test.index)\n",
    "X_test.head()"
   ]
  },
  {
   "cell_type": "code",
   "execution_count": 56,
   "id": "909914ec",
   "metadata": {},
   "outputs": [],
   "source": [
    "y_pred_test = reg.predict(X_test)"
   ]
  },
  {
   "cell_type": "code",
   "execution_count": 67,
   "id": "38dc11c2",
   "metadata": {},
   "outputs": [
    {
     "data": {
      "text/plain": [
       "<matplotlib.collections.PathCollection at 0x2074a380460>"
      ]
     },
     "execution_count": 67,
     "metadata": {},
     "output_type": "execute_result"
    },
    {
     "data": {
      "image/png": "[encoded data removed]",
      "text/plain": [
       "<Figure size 432x288 with 1 Axes>"
      ]
     },
     "metadata": {
      "needs_background": "light"
     },
     "output_type": "display_data"
    }
   ],
   "source": [
    "plt.scatter(y_test,y_pred_test)"
   ]
  },
  {
   "cell_type": "code",
   "execution_count": 57,
   "id": "8267639f",
   "metadata": {},
   "outputs": [
    {
     "name": "stdout",
     "output_type": "stream",
     "text": [
      "0.8321875624037562\n",
      "182.5951442486128\n",
      "0.09079818212263192\n"
     ]
    }
   ],
   "source": [
    "r2_test_lr = r2_score(y_test, y_pred_test)\n",
    "print(r2_test_lr)\n",
    "\n",
    "rss1_lr = np.sum(np.square(y_test - y_pred_test))\n",
    "print(rss1_lr)\n",
    "\n",
    "mse_test_lr = mean_squared_error(y_test, y_pred_test)\n",
    "print(mse_test_lr)"
   ]
  },
  {
   "cell_type": "code",
   "execution_count": 59,
   "id": "eeff0ce5",
   "metadata": {},
   "outputs": [],
   "source": [
    "#we got 84.9% accuacy on train data and 83.2% accuracy on test data."
   ]
  }
 ],
 "metadata": {
  "kernelspec": {
   "display_name": "Python 3",
   "language": "python",
   "name": "python3"
  },
  "language_info": {
   "codemirror_mode": {
    "name": "ipython",
    "version": 3
   },
   "file_extension": ".py",
   "mimetype": "text/x-python",
   "name": "python",
   "nbconvert_exporter": "python",
   "pygments_lexer": "ipython3",
   "version": "3.8.8"
  }
 },
 "nbformat": 4,
 "nbformat_minor": 5
}
